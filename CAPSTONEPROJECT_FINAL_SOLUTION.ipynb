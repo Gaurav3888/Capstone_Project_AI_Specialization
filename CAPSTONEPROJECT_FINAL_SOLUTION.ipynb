{
 "cells": [
  {
   "cell_type": "markdown",
   "metadata": {},
   "source": [
    "# Business Scenario:\n"
   ]
  },
  {
   "cell_type": "markdown",
   "metadata": {},
   "source": [
    "AAVAIL has been experimenting with à la carte approach for the subsription based models. The company has carried out the experiment outside US and now the Client wants a Revenue Prediction Model based on the data collected in the Previous Years.   The Data Collected has the below features<br/>                                                                                 <b>country</b>\n",
    "<br/>\n",
    "<b>customer_id</b> \n",
    "<br/>\n",
    "<b>day</b> \n",
    "<br/>\n",
    "<b>invoice</b>\n",
    "<br/>\n",
    "<b>month</b> \n",
    "<br/>\n",
    "<b>price</b> \n",
    "<br/>\n",
    "<b>stream_id</b> \n",
    "<br/>\n",
    "<b>times_viewed</b> \n",
    "<br/>\n",
    "<b>year</b> \n",
    "<br/>\n",
    "<b>invoice_date</b> \n",
    "<br/>"
   ]
  },
  {
   "cell_type": "markdown",
   "metadata": {},
   "source": [
    "#  Data Required"
   ]
  },
  {
   "cell_type": "markdown",
   "metadata": {},
   "source": [
    "The Problem Statement is to pridict the revenue of the next for any given country from the various columns present in the many jason files present below are the columns which seems related\n",
    "<b>country</b>\n",
    "<br/>\n",
    "<b>day</b> \n",
    "<br/>\n",
    "<b>invoice</b>\n",
    "<br/>\n",
    "<b>month</b> \n",
    "<br/>\n",
    "<b>price</b> \n",
    "<br/>\n",
    "<b>stream_id</b> \n",
    "<br/>\n",
    "<b>times_viewed</b> \n",
    "<br/>\n",
    "<b>year</b> \n",
    "<br/>\n",
    "<b>invoice_date</b> \n",
    "<br/>"
   ]
  },
  {
   "cell_type": "markdown",
   "metadata": {},
   "source": [
    "# Python Script to Load Data"
   ]
  },
  {
   "cell_type": "code",
   "execution_count": 1,
   "metadata": {},
   "outputs": [],
   "source": [
    "# Importing all the required libraries for the Project\n",
    "import cslib ## new code used in the solution hints all the functions are generix fr loading the data and all\n",
    "import pandas as pd\n",
    "import os\n",
    "import numpy as np\n",
    "import pingouin"
   ]
  },
  {
   "cell_type": "code",
   "execution_count": 2,
   "metadata": {},
   "outputs": [],
   "source": [
    "# importing the libraries for data visualization\n",
    "import matplotlib.pyplot as plt\n",
    "plt.style.use('seaborn')\n",
    "\n",
    "%matplotlib inline\n",
    "\n",
    "SMALL_SIZE = 8\n",
    "MEDIUM_SIZE = 10\n",
    "LARGE_SIZE = 12\n",
    "\n",
    "plt.rc('font', size=SMALL_SIZE)          # controls default text sizes\n",
    "plt.rc('axes', titlesize=SMALL_SIZE)     # fontsize of the axes title\n",
    "plt.rc('axes', labelsize=MEDIUM_SIZE)    # fontsize of the x and y labels\n",
    "plt.rc('xtick', labelsize=SMALL_SIZE)    # fontsize of the tick labels\n",
    "plt.rc('ytick', labelsize=SMALL_SIZE)    # fontsize of the tick labels\n",
    "plt.rc('legend', fontsize=SMALL_SIZE)    # legend fontsize\n",
    "plt.rc('figure', titlesize=LARGE_SIZE)   # fontsize of the figure title"
   ]
  },
  {
   "cell_type": "code",
   "execution_count": 3,
   "metadata": {},
   "outputs": [],
   "source": [
    "df = pd.DataFrame()"
   ]
  },
  {
   "cell_type": "code",
   "execution_count": 4,
   "metadata": {},
   "outputs": [
    {
     "name": "stdout",
     "output_type": "stream",
     "text": [
      "None\n",
      "loading the files\n",
      "Files Finally getting loaded\n"
     ]
    }
   ],
   "source": [
    "print(os.chdir('C:\\\\Users\\\\GauravSaxena\\\\Downloads\\\\Capstone_Project_Final\\\\cs-train'))\n",
    "print(\"loading the files\")\n",
    "df = cslib.fetch_data(os.getcwd())\n",
    "print(\"Files Finally getting loaded\")"
   ]
  },
  {
   "cell_type": "code",
   "execution_count": 5,
   "metadata": {},
   "outputs": [
    {
     "data": {
      "text/html": [
       "<div>\n",
       "<style scoped>\n",
       "    .dataframe tbody tr th:only-of-type {\n",
       "        vertical-align: middle;\n",
       "    }\n",
       "\n",
       "    .dataframe tbody tr th {\n",
       "        vertical-align: top;\n",
       "    }\n",
       "\n",
       "    .dataframe thead th {\n",
       "        text-align: right;\n",
       "    }\n",
       "</style>\n",
       "<table border=\"1\" class=\"dataframe\">\n",
       "  <thead>\n",
       "    <tr style=\"text-align: right;\">\n",
       "      <th></th>\n",
       "      <th>country</th>\n",
       "      <th>customer_id</th>\n",
       "      <th>day</th>\n",
       "      <th>invoice</th>\n",
       "      <th>month</th>\n",
       "      <th>price</th>\n",
       "      <th>stream_id</th>\n",
       "      <th>times_viewed</th>\n",
       "      <th>year</th>\n",
       "      <th>invoice_date</th>\n",
       "    </tr>\n",
       "  </thead>\n",
       "  <tbody>\n",
       "    <tr>\n",
       "      <th>0</th>\n",
       "      <td>United Kingdom</td>\n",
       "      <td>13085.0</td>\n",
       "      <td>28</td>\n",
       "      <td>489434</td>\n",
       "      <td>11</td>\n",
       "      <td>6.95</td>\n",
       "      <td>85048</td>\n",
       "      <td>12</td>\n",
       "      <td>2017</td>\n",
       "      <td>2017-11-28</td>\n",
       "    </tr>\n",
       "    <tr>\n",
       "      <th>1</th>\n",
       "      <td>United Kingdom</td>\n",
       "      <td>13085.0</td>\n",
       "      <td>28</td>\n",
       "      <td>489434</td>\n",
       "      <td>11</td>\n",
       "      <td>6.75</td>\n",
       "      <td>79323W</td>\n",
       "      <td>12</td>\n",
       "      <td>2017</td>\n",
       "      <td>2017-11-28</td>\n",
       "    </tr>\n",
       "    <tr>\n",
       "      <th>2</th>\n",
       "      <td>United Kingdom</td>\n",
       "      <td>13085.0</td>\n",
       "      <td>28</td>\n",
       "      <td>489434</td>\n",
       "      <td>11</td>\n",
       "      <td>2.10</td>\n",
       "      <td>22041</td>\n",
       "      <td>21</td>\n",
       "      <td>2017</td>\n",
       "      <td>2017-11-28</td>\n",
       "    </tr>\n",
       "    <tr>\n",
       "      <th>3</th>\n",
       "      <td>United Kingdom</td>\n",
       "      <td>13085.0</td>\n",
       "      <td>28</td>\n",
       "      <td>489434</td>\n",
       "      <td>11</td>\n",
       "      <td>1.25</td>\n",
       "      <td>21232</td>\n",
       "      <td>5</td>\n",
       "      <td>2017</td>\n",
       "      <td>2017-11-28</td>\n",
       "    </tr>\n",
       "    <tr>\n",
       "      <th>4</th>\n",
       "      <td>United Kingdom</td>\n",
       "      <td>13085.0</td>\n",
       "      <td>28</td>\n",
       "      <td>489434</td>\n",
       "      <td>11</td>\n",
       "      <td>1.65</td>\n",
       "      <td>22064</td>\n",
       "      <td>17</td>\n",
       "      <td>2017</td>\n",
       "      <td>2017-11-28</td>\n",
       "    </tr>\n",
       "  </tbody>\n",
       "</table>\n",
       "</div>"
      ],
      "text/plain": [
       "          country  customer_id  day invoice  month  price stream_id  \\\n",
       "0  United Kingdom      13085.0   28  489434     11   6.95     85048   \n",
       "1  United Kingdom      13085.0   28  489434     11   6.75    79323W   \n",
       "2  United Kingdom      13085.0   28  489434     11   2.10     22041   \n",
       "3  United Kingdom      13085.0   28  489434     11   1.25     21232   \n",
       "4  United Kingdom      13085.0   28  489434     11   1.65     22064   \n",
       "\n",
       "   times_viewed  year invoice_date  \n",
       "0            12  2017   2017-11-28  \n",
       "1            12  2017   2017-11-28  \n",
       "2            21  2017   2017-11-28  \n",
       "3             5  2017   2017-11-28  \n",
       "4            17  2017   2017-11-28  "
      ]
     },
     "execution_count": 5,
     "metadata": {},
     "output_type": "execute_result"
    }
   ],
   "source": [
    "# data got loaded successfully\n",
    "# checking the Data Frame \n",
    "df.head()"
   ]
  },
  {
   "cell_type": "markdown",
   "metadata": {},
   "source": [
    "#  Data Processing"
   ]
  },
  {
   "cell_type": "code",
   "execution_count": 6,
   "metadata": {},
   "outputs": [
    {
     "name": "stdout",
     "output_type": "stream",
     "text": [
      "\n",
      "Missing Value Summary\n",
      "-----------------------------------\n",
      "country              0\n",
      "customer_id     189762\n",
      "day                  0\n",
      "invoice              0\n",
      "month                0\n",
      "price                0\n",
      "stream_id            0\n",
      "times_viewed         0\n",
      "year                 0\n",
      "invoice_date         0\n",
      "dtype: int64\n"
     ]
    }
   ],
   "source": [
    "#### Checking for Missing Values\n",
    "print(\"\\nMissing Value Summary\\n{}\".format(\"-\"*35))\n",
    "print(df.isnull().sum(axis = 0))"
   ]
  },
  {
   "cell_type": "markdown",
   "metadata": {},
   "source": [
    "### Observation regarding Missing Data\n",
    "From the above result it is clearly observed that the Customer Id Fiels is having missing values hence we utilizing the customer Id Field is difficult hence the same can be removed from the inputset"
   ]
  },
  {
   "cell_type": "code",
   "execution_count": 7,
   "metadata": {},
   "outputs": [
    {
     "name": "stdout",
     "output_type": "stream",
     "text": [
      "['country', 'day', 'invoice', 'month', 'price', 'stream_id', 'times_viewed', 'year', 'invoice_date']\n"
     ]
    }
   ],
   "source": [
    "col_names = list(df.columns)\n",
    "del col_names[1]\n",
    "print(col_names)"
   ]
  },
  {
   "cell_type": "code",
   "execution_count": 8,
   "metadata": {},
   "outputs": [],
   "source": [
    "# Creating Summary Tables using the DataFrame grouping Price by Country\n",
    "df_Final = df[col_names]\n",
    "df_Country=df_Final.pivot_table(index=['country'], values=['price'], aggfunc='sum').round(2)\n",
    "df_Country = df_Country.sort_values('price', ascending=False)\n",
    "# As apart of case strudy we will be considering only top 10 countries which have the highest revernue. Below are identified top 10 countries\n",
    "df_top10 = df_Country.head(10)"
   ]
  },
  {
   "cell_type": "code",
   "execution_count": 9,
   "metadata": {},
   "outputs": [
    {
     "data": {
      "text/plain": [
       "['United Kingdom',\n",
       " 'EIRE',\n",
       " 'Germany',\n",
       " 'France',\n",
       " 'Norway',\n",
       " 'Spain',\n",
       " 'Hong Kong',\n",
       " 'Portugal',\n",
       " 'Singapore',\n",
       " 'Netherlands']"
      ]
     },
     "execution_count": 9,
     "metadata": {},
     "output_type": "execute_result"
    }
   ],
   "source": [
    "cntList = list(df_top10.index)\n",
    "cntList"
   ]
  },
  {
   "cell_type": "markdown",
   "metadata": {},
   "source": [
    "#  Data Summary"
   ]
  },
  {
   "cell_type": "markdown",
   "metadata": {},
   "source": [
    "The below summary tables provides the year wise revenue(aggregate Price of each country"
   ]
  },
  {
   "cell_type": "code",
   "execution_count": 10,
   "metadata": {},
   "outputs": [
    {
     "data": {
      "text/html": [
       "<div>\n",
       "<style scoped>\n",
       "    .dataframe tbody tr th:only-of-type {\n",
       "        vertical-align: middle;\n",
       "    }\n",
       "\n",
       "    .dataframe tbody tr th {\n",
       "        vertical-align: top;\n",
       "    }\n",
       "\n",
       "    .dataframe thead th {\n",
       "        text-align: right;\n",
       "    }\n",
       "</style>\n",
       "<table border=\"1\" class=\"dataframe\">\n",
       "  <thead>\n",
       "    <tr style=\"text-align: right;\">\n",
       "      <th></th>\n",
       "      <th></th>\n",
       "      <th>price</th>\n",
       "    </tr>\n",
       "    <tr>\n",
       "      <th>country</th>\n",
       "      <th>year</th>\n",
       "      <th></th>\n",
       "    </tr>\n",
       "  </thead>\n",
       "  <tbody>\n",
       "    <tr>\n",
       "      <th rowspan=\"3\" valign=\"top\">EIRE</th>\n",
       "      <th>2017</th>\n",
       "      <td>4433.09</td>\n",
       "    </tr>\n",
       "    <tr>\n",
       "      <th>2018</th>\n",
       "      <td>74398.30</td>\n",
       "    </tr>\n",
       "    <tr>\n",
       "      <th>2019</th>\n",
       "      <td>28237.82</td>\n",
       "    </tr>\n",
       "    <tr>\n",
       "      <th rowspan=\"3\" valign=\"top\">France</th>\n",
       "      <th>2017</th>\n",
       "      <td>1200.34</td>\n",
       "    </tr>\n",
       "    <tr>\n",
       "      <th>2018</th>\n",
       "      <td>24538.34</td>\n",
       "    </tr>\n",
       "    <tr>\n",
       "      <th>2019</th>\n",
       "      <td>14826.46</td>\n",
       "    </tr>\n",
       "    <tr>\n",
       "      <th rowspan=\"3\" valign=\"top\">Germany</th>\n",
       "      <th>2017</th>\n",
       "      <td>1525.79</td>\n",
       "    </tr>\n",
       "    <tr>\n",
       "      <th>2018</th>\n",
       "      <td>30554.33</td>\n",
       "    </tr>\n",
       "    <tr>\n",
       "      <th>2019</th>\n",
       "      <td>17191.70</td>\n",
       "    </tr>\n",
       "    <tr>\n",
       "      <th rowspan=\"2\" valign=\"top\">Hong Kong</th>\n",
       "      <th>2018</th>\n",
       "      <td>8715.38</td>\n",
       "    </tr>\n",
       "    <tr>\n",
       "      <th>2019</th>\n",
       "      <td>5737.19</td>\n",
       "    </tr>\n",
       "    <tr>\n",
       "      <th rowspan=\"3\" valign=\"top\">Netherlands</th>\n",
       "      <th>2017</th>\n",
       "      <td>384.26</td>\n",
       "    </tr>\n",
       "    <tr>\n",
       "      <th>2018</th>\n",
       "      <td>8948.11</td>\n",
       "    </tr>\n",
       "    <tr>\n",
       "      <th>2019</th>\n",
       "      <td>2990.43</td>\n",
       "    </tr>\n",
       "    <tr>\n",
       "      <th rowspan=\"3\" valign=\"top\">Norway</th>\n",
       "      <th>2017</th>\n",
       "      <td>123.28</td>\n",
       "    </tr>\n",
       "    <tr>\n",
       "      <th>2018</th>\n",
       "      <td>34716.40</td>\n",
       "    </tr>\n",
       "    <tr>\n",
       "      <th>2019</th>\n",
       "      <td>3655.07</td>\n",
       "    </tr>\n",
       "    <tr>\n",
       "      <th rowspan=\"3\" valign=\"top\">Portugal</th>\n",
       "      <th>2017</th>\n",
       "      <td>294.35</td>\n",
       "    </tr>\n",
       "    <tr>\n",
       "      <th>2018</th>\n",
       "      <td>4292.26</td>\n",
       "    </tr>\n",
       "    <tr>\n",
       "      <th>2019</th>\n",
       "      <td>8942.06</td>\n",
       "    </tr>\n",
       "    <tr>\n",
       "      <th rowspan=\"2\" valign=\"top\">Singapore</th>\n",
       "      <th>2018</th>\n",
       "      <td>372.51</td>\n",
       "    </tr>\n",
       "    <tr>\n",
       "      <th>2019</th>\n",
       "      <td>12803.41</td>\n",
       "    </tr>\n",
       "    <tr>\n",
       "      <th rowspan=\"3\" valign=\"top\">Spain</th>\n",
       "      <th>2017</th>\n",
       "      <td>845.22</td>\n",
       "    </tr>\n",
       "    <tr>\n",
       "      <th>2018</th>\n",
       "      <td>7311.56</td>\n",
       "    </tr>\n",
       "    <tr>\n",
       "      <th>2019</th>\n",
       "      <td>7884.21</td>\n",
       "    </tr>\n",
       "    <tr>\n",
       "      <th rowspan=\"3\" valign=\"top\">United Kingdom</th>\n",
       "      <th>2017</th>\n",
       "      <td>187241.07</td>\n",
       "    </tr>\n",
       "    <tr>\n",
       "      <th>2018</th>\n",
       "      <td>2272135.64</td>\n",
       "    </tr>\n",
       "    <tr>\n",
       "      <th>2019</th>\n",
       "      <td>1062136.79</td>\n",
       "    </tr>\n",
       "  </tbody>\n",
       "</table>\n",
       "</div>"
      ],
      "text/plain": [
       "                          price\n",
       "country        year            \n",
       "EIRE           2017     4433.09\n",
       "               2018    74398.30\n",
       "               2019    28237.82\n",
       "France         2017     1200.34\n",
       "               2018    24538.34\n",
       "               2019    14826.46\n",
       "Germany        2017     1525.79\n",
       "               2018    30554.33\n",
       "               2019    17191.70\n",
       "Hong Kong      2018     8715.38\n",
       "               2019     5737.19\n",
       "Netherlands    2017      384.26\n",
       "               2018     8948.11\n",
       "               2019     2990.43\n",
       "Norway         2017      123.28\n",
       "               2018    34716.40\n",
       "               2019     3655.07\n",
       "Portugal       2017      294.35\n",
       "               2018     4292.26\n",
       "               2019     8942.06\n",
       "Singapore      2018      372.51\n",
       "               2019    12803.41\n",
       "Spain          2017      845.22\n",
       "               2018     7311.56\n",
       "               2019     7884.21\n",
       "United Kingdom 2017   187241.07\n",
       "               2018  2272135.64\n",
       "               2019  1062136.79"
      ]
     },
     "execution_count": 10,
     "metadata": {},
     "output_type": "execute_result"
    }
   ],
   "source": [
    "df_T10 = df_Final[(df_Final['country'].isin (cntList))]\n",
    "df_group=df_T10.pivot_table(index=['country','year'], values=['price'], aggfunc='sum').round(2)\n",
    "df_group"
   ]
  },
  {
   "cell_type": "markdown",
   "metadata": {},
   "source": [
    "# Visualization of the revenue"
   ]
  },
  {
   "cell_type": "code",
   "execution_count": 11,
   "metadata": {},
   "outputs": [
    {
     "data": {
      "text/plain": [
       "Text(0, 0.5, 'Revenue')"
      ]
     },
     "execution_count": 11,
     "metadata": {},
     "output_type": "execute_result"
    },
    {
     "data": {
      "image/png": "[encoded data removed]",
      "text/plain": [
       "<Figure size 432x288 with 1 Axes>"
      ]
     },
     "metadata": {
      "needs_background": "light"
     },
     "output_type": "display_data"
    }
   ],
   "source": [
    "plt.bar(df_top10.index, df_top10['price'].values)\n",
    "plt.xlabel('Country')\n",
    "plt.ylabel('Revenue')"
   ]
  },
  {
   "cell_type": "markdown",
   "metadata": {},
   "source": [
    "United Kingdon has the revenue many folds from the other Countries lets check for the revenues for the Month Wise"
   ]
  },
  {
   "cell_type": "code",
   "execution_count": 12,
   "metadata": {},
   "outputs": [
    {
     "data": {
      "text/plain": [
       "array([11, 12,  1,  2,  3,  4,  5,  6,  7,  8,  9, 10], dtype=int64)"
      ]
     },
     "execution_count": 12,
     "metadata": {},
     "output_type": "execute_result"
    }
   ],
   "source": [
    "df_UK = df_Final[(df_Final.country == \"United Kingdom\")]\n",
    "pd.unique(df_UK['month'])"
   ]
  },
  {
   "cell_type": "code",
   "execution_count": 13,
   "metadata": {},
   "outputs": [
    {
     "data": {
      "text/html": [
       "<div>\n",
       "<style scoped>\n",
       "    .dataframe tbody tr th:only-of-type {\n",
       "        vertical-align: middle;\n",
       "    }\n",
       "\n",
       "    .dataframe tbody tr th {\n",
       "        vertical-align: top;\n",
       "    }\n",
       "\n",
       "    .dataframe thead th {\n",
       "        text-align: right;\n",
       "    }\n",
       "</style>\n",
       "<table border=\"1\" class=\"dataframe\">\n",
       "  <thead>\n",
       "    <tr style=\"text-align: right;\">\n",
       "      <th></th>\n",
       "      <th>price</th>\n",
       "    </tr>\n",
       "    <tr>\n",
       "      <th>month</th>\n",
       "      <th></th>\n",
       "    </tr>\n",
       "  </thead>\n",
       "  <tbody>\n",
       "    <tr>\n",
       "      <th>1</th>\n",
       "      <td>329101.28</td>\n",
       "    </tr>\n",
       "    <tr>\n",
       "      <th>2</th>\n",
       "      <td>220195.23</td>\n",
       "    </tr>\n",
       "    <tr>\n",
       "      <th>3</th>\n",
       "      <td>350347.39</td>\n",
       "    </tr>\n",
       "    <tr>\n",
       "      <th>4</th>\n",
       "      <td>233579.17</td>\n",
       "    </tr>\n",
       "    <tr>\n",
       "      <th>5</th>\n",
       "      <td>292719.10</td>\n",
       "    </tr>\n",
       "    <tr>\n",
       "      <th>6</th>\n",
       "      <td>387342.50</td>\n",
       "    </tr>\n",
       "    <tr>\n",
       "      <th>7</th>\n",
       "      <td>269422.27</td>\n",
       "    </tr>\n",
       "    <tr>\n",
       "      <th>8</th>\n",
       "      <td>135892.28</td>\n",
       "    </tr>\n",
       "    <tr>\n",
       "      <th>9</th>\n",
       "      <td>204623.94</td>\n",
       "    </tr>\n",
       "    <tr>\n",
       "      <th>10</th>\n",
       "      <td>243017.00</td>\n",
       "    </tr>\n",
       "    <tr>\n",
       "      <th>11</th>\n",
       "      <td>352691.81</td>\n",
       "    </tr>\n",
       "    <tr>\n",
       "      <th>12</th>\n",
       "      <td>502581.52</td>\n",
       "    </tr>\n",
       "  </tbody>\n",
       "</table>\n",
       "</div>"
      ],
      "text/plain": [
       "           price\n",
       "month           \n",
       "1      329101.28\n",
       "2      220195.23\n",
       "3      350347.39\n",
       "4      233579.17\n",
       "5      292719.10\n",
       "6      387342.50\n",
       "7      269422.27\n",
       "8      135892.28\n",
       "9      204623.94\n",
       "10     243017.00\n",
       "11     352691.81\n",
       "12     502581.52"
      ]
     },
     "execution_count": 13,
     "metadata": {},
     "output_type": "execute_result"
    }
   ],
   "source": [
    "# checling the revenue of the United Kingdom monthwise\n",
    "df_UK_Month=df_UK.pivot_table(index=['month'], values=['price'], aggfunc='sum').round(2)\n",
    "df_UK_Month"
   ]
  },
  {
   "cell_type": "code",
   "execution_count": 14,
   "metadata": {},
   "outputs": [
    {
     "data": {
      "text/plain": [
       "Text(0, 0.5, 'Revenue')"
      ]
     },
     "execution_count": 14,
     "metadata": {},
     "output_type": "execute_result"
    },
    {
     "data": {
      "image/png": "[encoded data removed]",
      "text/plain": [
       "<Figure size 432x288 with 1 Axes>"
      ]
     },
     "metadata": {
      "needs_background": "light"
     },
     "output_type": "display_data"
    }
   ],
   "source": [
    "plt.bar(df_UK_Month.index, df_UK_Month['price'].values)\n",
    "plt.xlabel('Month')\n",
    "plt.title('United Kingdom MonthWise Distribution')\n",
    "plt.ylabel('Revenue')"
   ]
  },
  {
   "cell_type": "code",
   "execution_count": 15,
   "metadata": {},
   "outputs": [
    {
     "data": {
      "text/html": [
       "<div>\n",
       "<style scoped>\n",
       "    .dataframe tbody tr th:only-of-type {\n",
       "        vertical-align: middle;\n",
       "    }\n",
       "\n",
       "    .dataframe tbody tr th {\n",
       "        vertical-align: top;\n",
       "    }\n",
       "\n",
       "    .dataframe thead th {\n",
       "        text-align: right;\n",
       "    }\n",
       "</style>\n",
       "<table border=\"1\" class=\"dataframe\">\n",
       "  <thead>\n",
       "    <tr style=\"text-align: right;\">\n",
       "      <th></th>\n",
       "      <th>price</th>\n",
       "    </tr>\n",
       "    <tr>\n",
       "      <th>month</th>\n",
       "      <th></th>\n",
       "    </tr>\n",
       "  </thead>\n",
       "  <tbody>\n",
       "    <tr>\n",
       "      <th>1</th>\n",
       "      <td>371791.05</td>\n",
       "    </tr>\n",
       "    <tr>\n",
       "      <th>2</th>\n",
       "      <td>244822.31</td>\n",
       "    </tr>\n",
       "    <tr>\n",
       "      <th>3</th>\n",
       "      <td>419001.43</td>\n",
       "    </tr>\n",
       "    <tr>\n",
       "      <th>4</th>\n",
       "      <td>269208.79</td>\n",
       "    </tr>\n",
       "    <tr>\n",
       "      <th>5</th>\n",
       "      <td>332714.92</td>\n",
       "    </tr>\n",
       "    <tr>\n",
       "      <th>6</th>\n",
       "      <td>419026.69</td>\n",
       "    </tr>\n",
       "    <tr>\n",
       "      <th>7</th>\n",
       "      <td>300635.17</td>\n",
       "    </tr>\n",
       "    <tr>\n",
       "      <th>8</th>\n",
       "      <td>156605.00</td>\n",
       "    </tr>\n",
       "    <tr>\n",
       "      <th>9</th>\n",
       "      <td>222500.98</td>\n",
       "    </tr>\n",
       "    <tr>\n",
       "      <th>10</th>\n",
       "      <td>279360.78</td>\n",
       "    </tr>\n",
       "    <tr>\n",
       "      <th>11</th>\n",
       "      <td>376323.66</td>\n",
       "    </tr>\n",
       "    <tr>\n",
       "      <th>12</th>\n",
       "      <td>522206.57</td>\n",
       "    </tr>\n",
       "  </tbody>\n",
       "</table>\n",
       "</div>"
      ],
      "text/plain": [
       "           price\n",
       "month           \n",
       "1      371791.05\n",
       "2      244822.31\n",
       "3      419001.43\n",
       "4      269208.79\n",
       "5      332714.92\n",
       "6      419026.69\n",
       "7      300635.17\n",
       "8      156605.00\n",
       "9      222500.98\n",
       "10     279360.78\n",
       "11     376323.66\n",
       "12     522206.57"
      ]
     },
     "execution_count": 15,
     "metadata": {},
     "output_type": "execute_result"
    }
   ],
   "source": [
    "#Checking the distribution of the revenue over the months\n",
    "df_MONTH_ALL=df_Final.pivot_table(index=['month'], values=['price'], aggfunc='sum').round(2)\n",
    "df_MONTH_ALL"
   ]
  },
  {
   "cell_type": "code",
   "execution_count": 16,
   "metadata": {},
   "outputs": [
    {
     "data": {
      "text/plain": [
       "Text(0, 0.5, 'Revenue')"
      ]
     },
     "execution_count": 16,
     "metadata": {},
     "output_type": "execute_result"
    },
    {
     "data": {
      "image/png": "[encoded data removed]",
      "text/plain": [
       "<Figure size 432x288 with 1 Axes>"
      ]
     },
     "metadata": {
      "needs_background": "light"
     },
     "output_type": "display_data"
    }
   ],
   "source": [
    "plt.bar(df_MONTH_ALL.index, df_MONTH_ALL['price'].values)\n",
    "plt.xlabel('Month')\n",
    "plt.title('Revenue MonthWise Distribution of all contries')\n",
    "plt.ylabel('Revenue')"
   ]
  },
  {
   "cell_type": "markdown",
   "metadata": {},
   "source": [
    "#### Above Graph clearly shows that the Revenue for the Month of November and December were the highest for all countries"
   ]
  },
  {
   "cell_type": "code",
   "execution_count": 17,
   "metadata": {},
   "outputs": [
    {
     "data": {
      "text/plain": [
       "array(['United Kingdom', 'France', 'EIRE', 'Germany', 'Portugal',\n",
       "       'Netherlands', 'Spain', 'Norway', 'Hong Kong', 'Singapore'],\n",
       "      dtype=object)"
      ]
     },
     "execution_count": 17,
     "metadata": {},
     "output_type": "execute_result"
    }
   ],
   "source": [
    "pd.unique(df_T10['country'])"
   ]
  },
  {
   "cell_type": "code",
   "execution_count": 18,
   "metadata": {},
   "outputs": [
    {
     "data": {
      "text/plain": [
       "Text(0, 0.5, 'Revenue')"
      ]
     },
     "execution_count": 18,
     "metadata": {},
     "output_type": "execute_result"
    },
    {
     "data": {
      "image/png": "[encoded data removed]",
      "text/plain": [
       "<Figure size 432x288 with 1 Axes>"
      ]
     },
     "metadata": {
      "needs_background": "light"
     },
     "output_type": "display_data"
    }
   ],
   "source": [
    "df_MONTH_T10=df_T10.pivot_table(index=['month'], values=['price'], aggfunc='sum').round(2)\n",
    "plt.bar(df_MONTH_T10.index, df_MONTH_T10['price'].values)\n",
    "plt.xlabel('Month')\n",
    "plt.title('Revenue MonthWise Distribution of Top 10 countries')\n",
    "plt.ylabel('Revenue')"
   ]
  },
  {
   "cell_type": "markdown",
   "metadata": {},
   "source": [
    "# Hypothesis Testing"
   ]
  },
  {
   "cell_type": "code",
   "execution_count": 19,
   "metadata": {},
   "outputs": [
    {
     "data": {
      "text/html": [
       "<div>\n",
       "<style scoped>\n",
       "    .dataframe tbody tr th:only-of-type {\n",
       "        vertical-align: middle;\n",
       "    }\n",
       "\n",
       "    .dataframe tbody tr th {\n",
       "        vertical-align: top;\n",
       "    }\n",
       "\n",
       "    .dataframe thead th {\n",
       "        text-align: right;\n",
       "    }\n",
       "</style>\n",
       "<table border=\"1\" class=\"dataframe\">\n",
       "  <thead>\n",
       "    <tr style=\"text-align: right;\">\n",
       "      <th></th>\n",
       "      <th>Contrast</th>\n",
       "      <th>A</th>\n",
       "      <th>B</th>\n",
       "      <th>Paired</th>\n",
       "      <th>Parametric</th>\n",
       "      <th>T</th>\n",
       "      <th>dof</th>\n",
       "      <th>Tail</th>\n",
       "      <th>p-unc</th>\n",
       "      <th>BF10</th>\n",
       "      <th>hedges</th>\n",
       "    </tr>\n",
       "  </thead>\n",
       "  <tbody>\n",
       "    <tr>\n",
       "      <th>0</th>\n",
       "      <td>year</td>\n",
       "      <td>2017</td>\n",
       "      <td>2018</td>\n",
       "      <td>False</td>\n",
       "      <td>True</td>\n",
       "      <td>-1.354378</td>\n",
       "      <td>468681.063789</td>\n",
       "      <td>two-sided</td>\n",
       "      <td>0.175617</td>\n",
       "      <td>0.014</td>\n",
       "      <td>-0.002239</td>\n",
       "    </tr>\n",
       "    <tr>\n",
       "      <th>1</th>\n",
       "      <td>year</td>\n",
       "      <td>2017</td>\n",
       "      <td>2019</td>\n",
       "      <td>False</td>\n",
       "      <td>True</td>\n",
       "      <td>-1.360465</td>\n",
       "      <td>268024.051771</td>\n",
       "      <td>two-sided</td>\n",
       "      <td>0.173684</td>\n",
       "      <td>0.015</td>\n",
       "      <td>-0.003413</td>\n",
       "    </tr>\n",
       "    <tr>\n",
       "      <th>2</th>\n",
       "      <td>year</td>\n",
       "      <td>2018</td>\n",
       "      <td>2019</td>\n",
       "      <td>False</td>\n",
       "      <td>True</td>\n",
       "      <td>-0.038126</td>\n",
       "      <td>597010.510709</td>\n",
       "      <td>two-sided</td>\n",
       "      <td>0.969588</td>\n",
       "      <td>0.003</td>\n",
       "      <td>-0.000086</td>\n",
       "    </tr>\n",
       "  </tbody>\n",
       "</table>\n",
       "</div>"
      ],
      "text/plain": [
       "  Contrast     A     B  Paired  Parametric         T            dof  \\\n",
       "0     year  2017  2018   False        True -1.354378  468681.063789   \n",
       "1     year  2017  2019   False        True -1.360465  268024.051771   \n",
       "2     year  2018  2019   False        True -0.038126  597010.510709   \n",
       "\n",
       "        Tail     p-unc   BF10    hedges  \n",
       "0  two-sided  0.175617  0.014 -0.002239  \n",
       "1  two-sided  0.173684  0.015 -0.003413  \n",
       "2  two-sided  0.969588  0.003 -0.000086  "
      ]
     },
     "execution_count": 19,
     "metadata": {},
     "output_type": "execute_result"
    }
   ],
   "source": [
    "test_results = pingouin.pairwise_ttests(data=df_UK, dv='price', between='year', alpha=0.1, correction=True)\n",
    "test_results.head()"
   ]
  },
  {
   "cell_type": "markdown",
   "metadata": {},
   "source": [
    "# PART 2 CAPSTONE PROJECT"
   ]
  },
  {
   "cell_type": "markdown",
   "metadata": {},
   "source": [
    "## Model Approaches"
   ]
  },
  {
   "cell_type": "markdown",
   "metadata": {},
   "source": [
    "As we will be exploring the TimeSeries Analysis for the first time hence will be sticking on the Supervised Learning Approach mentioned in the solution hints will try to change the hyperparameters and will also try to use ternsorflow to make a predict Model"
   ]
  },
  {
   "cell_type": "code",
   "execution_count": 37,
   "metadata": {},
   "outputs": [],
   "source": [
    "#importing the necessary header files\n",
    "import time,os,re,csv,sys,uuid,joblib\n",
    "from datetime import date\n",
    "from collections import defaultdict\n",
    "import numpy as np\n",
    "import pandas as pd\n",
    "from sklearn import svm\n",
    "from sklearn.model_selection import train_test_split, GridSearchCV\n",
    "from sklearn.ensemble import RandomForestRegressor\n",
    "from sklearn.metrics import mean_squared_error\n",
    "from sklearn.preprocessing import StandardScaler, OneHotEncoder\n",
    "from sklearn.pipeline import Pipeline\n",
    "from cslib import fetch_ts, engineer_features\n",
    "MODEL_DIR = \"models\"\n",
    "MODEL_VERSION = 0.1\n",
    "MODEL_VERSION_NOTE = \"supervised learing model for time-series\""
   ]
  },
  {
   "cell_type": "markdown",
   "metadata": {},
   "source": [
    "### Model Definition1 using RandomRegressor"
   ]
  },
  {
   "cell_type": "code",
   "execution_count": 38,
   "metadata": {},
   "outputs": [],
   "source": [
    "def _model_train(df,tag,test=False):\n",
    "    \"\"\"\n",
    "    example funtion to train model\n",
    "    \n",
    "    The 'test' flag when set to 'True':\n",
    "        (1) subsets the data and serializes a test version\n",
    "        (2) specifies that the use of the 'test' log file \n",
    "\n",
    "    \"\"\"\n",
    "\n",
    "\n",
    "    ## start timer for runtime\n",
    "    time_start = time.time()\n",
    "    \n",
    "    X,y,dates = engineer_features(df)\n",
    "\n",
    "    if test:\n",
    "        n_samples = int(np.round(0.3 * X.shape[0]))\n",
    "        subset_indices = np.random.choice(np.arange(X.shape[0]),n_samples,\n",
    "                                          replace=False).astype(int)\n",
    "        mask = np.in1d(np.arange(y.size),subset_indices)\n",
    "        y=y[mask]\n",
    "        X=X[mask]\n",
    "        dates=dates[mask]\n",
    "        \n",
    "    ## Perform a train-test split\n",
    "    X_train, X_test, y_train, y_test = train_test_split(X, y, test_size=0.25,\n",
    "                                                        shuffle=True, random_state=42)\n",
    "    ## train a random forest model\n",
    "    param_grid_rf = {\n",
    "    'rf__criterion': ['mse','mae'],\n",
    "    'rf__n_estimators': [10,15,20,25]\n",
    "    }\n",
    "\n",
    "    pipe_rf = Pipeline(steps=[('scaler', StandardScaler()),\n",
    "                              ('rf', RandomForestRegressor())])\n",
    "    \n",
    "    grid = GridSearchCV(pipe_rf, param_grid=param_grid_rf, cv=5, iid=False, n_jobs=-1)\n",
    "    grid.fit(X_train, y_train)\n",
    "    y_pred = grid.predict(X_test)\n",
    "    eval_rmse =  round(np.sqrt(mean_squared_error(y_test,y_pred)))\n",
    "    \n",
    "    ## retrain using all data\n",
    "    grid.fit(X, y)\n",
    "    model_name = re.sub(\"\\.\",\"_\",str(MODEL_VERSION))\n",
    "    if test:\n",
    "        saved_model = os.path.join(MODEL_DIR,\n",
    "                                   \"test-{}-{}.joblib\".format(tag,model_name))\n",
    "        print(\"... saving test version of model: {}\".format(saved_model))\n",
    "    else:\n",
    "        saved_model = os.path.join(MODEL_DIR,\n",
    "                                   \"sl-{}-{}.joblib\".format(tag,model_name))\n",
    "        print(\"... saving model: {}\".format(saved_model))\n",
    "        \n",
    "    joblib.dump(grid,saved_model)\n",
    "\n",
    "    m, s = divmod(time.time()-time_start, 60)\n",
    "    h, m = divmod(m, 60)\n",
    "    runtime = \"%03d:%02d:%02d\"%(h, m, s)"
   ]
  },
  {
   "cell_type": "code",
   "execution_count": 39,
   "metadata": {},
   "outputs": [],
   "source": [
    "def model_train(data_dir,test=False):\n",
    "    \"\"\"\n",
    "    funtion to train model given a df\n",
    "    \n",
    "    'mode' -  can be used to subset data essentially simulating a train\n",
    "    \"\"\"\n",
    "    \n",
    "    if not os.path.isdir(MODEL_DIR):\n",
    "        os.mkdir(MODEL_DIR)\n",
    "\n",
    "    if test:\n",
    "        print(\"... test flag on\")\n",
    "        print(\"...... subseting data\")\n",
    "        print(\"...... subseting countries\")\n",
    "        \n",
    "    ## fetch time-series formatted data\n",
    "    ts_data = fetch_ts(data_dir)\n",
    "\n",
    "    ## train a different model for each data sets\n",
    "    for country,df in ts_data.items():\n",
    "        \n",
    "        if test and country not in ['all','united_kingdom']:\n",
    "            continue\n",
    "        \n",
    "        _model_train(df,country,test=test)"
   ]
  },
  {
   "cell_type": "code",
   "execution_count": 41,
   "metadata": {},
   "outputs": [],
   "source": [
    "def model_predict(country,year,month,day,all_models=None,test=False):\n",
    "    \"\"\"\n",
    "    example funtion to predict from model\n",
    "    \"\"\"\n",
    "\n",
    "    ## start timer for runtime\n",
    "    time_start = time.time()\n",
    "\n",
    "    ## load model if needed\n",
    "    if not all_models:\n",
    "        all_data,all_models = model_load(training=False)\n",
    "    \n",
    "    ## input checks\n",
    "    if country not in all_models.keys():\n",
    "        raise Exception(\"ERROR (model_predict) - model for country '{}' could not be found\".format(country))\n",
    "\n",
    "    for d in [year,month,day]:\n",
    "        if re.search(\"\\D\",d):\n",
    "            raise Exception(\"ERROR (model_predict) - invalid year, month or day\")\n",
    "    \n",
    "    ## load data\n",
    "    model = all_models[country]\n",
    "    data = all_data[country]\n",
    "\n",
    "    ## check date\n",
    "    target_date = \"{}-{}-{}\".format(year,str(month).zfill(2),str(day).zfill(2))\n",
    "    print(target_date)\n",
    "\n",
    "    if target_date not in data['dates']:\n",
    "        raise Exception(\"ERROR (model_predict) - date {} not in range {}-{}\".format(target_date,\n",
    "                                                                                    data['dates'][0],\n",
    "                                                                                    data['dates'][-1]))\n",
    "    date_indx = np.where(data['dates'] == target_date)[0][0]\n",
    "    query = data['X'].iloc[[date_indx]]\n",
    "    \n",
    "    ## sainty check\n",
    "    if data['dates'].shape[0] != data['X'].shape[0]:\n",
    "        raise Exception(\"ERROR (model_predict) - dimensions mismatch\")\n",
    "\n",
    "    ## make prediction and gather data for log entry\n",
    "    y_pred = model.predict(query)\n",
    "    y_proba = None\n",
    "    if 'predict_proba' in dir(model) and 'probability' in dir(model):\n",
    "        if model.probability == True:\n",
    "            y_proba = model.predict_proba(query)\n",
    "\n",
    "\n",
    "    m, s = divmod(time.time()-time_start, 60)\n",
    "    h, m = divmod(m, 60)\n",
    "    runtime = \"%03d:%02d:%02d\"%(h, m, s)\n",
    "\n",
    "\n",
    "    \n",
    "    return({'y_pred':y_pred,'y_proba':y_proba})"
   ]
  },
  {
   "cell_type": "code",
   "execution_count": 53,
   "metadata": {},
   "outputs": [],
   "source": [
    "def model_load(prefix='sl',data_dir=None,training=True):\n",
    "    \"\"\"\n",
    "    example funtion to load model\n",
    "    \n",
    "    The prefix allows the loading of different models\n",
    "    \"\"\"\n",
    "\n",
    "    if not data_dir:\n",
    "        data_dir = os.path.join(\"..\",\"cs-train\")\n",
    "    \n",
    "    print(os.path)\n",
    "    models = [f for f in os.listdir(os.path.join(\".\",\"models\")) if re.search(\"sl\",f)]\n",
    "\n",
    "    if len(models) == 0:\n",
    "        raise Exception(\"Models with prefix '{}' cannot be found did you train?\".format(prefix))\n",
    "\n",
    "    all_models = {}\n",
    "    for model in models:\n",
    "        all_models[re.split(\"-\",model)[1]] = joblib.load(os.path.join(\".\",\"models\",model))\n",
    "\n",
    "    ## load data\n",
    "    ts_data = fetch_ts(data_dir)\n",
    "    all_data = {}\n",
    "    for country, df in ts_data.items():\n",
    "        X,y,dates = engineer_features(df,training=training)\n",
    "        dates = np.array([str(d) for d in dates])\n",
    "        all_data[country] = {\"X\":X,\"y\":y,\"dates\": dates}\n",
    "        \n",
    "    return(all_data, all_models)"
   ]
  },
  {
   "cell_type": "code",
   "execution_count": 55,
   "metadata": {},
   "outputs": [
    {
     "name": "stdout",
     "output_type": "stream",
     "text": [
      "None\n",
      "... loading ts data from files\n"
     ]
    },
    {
     "name": "stderr",
     "output_type": "stream",
     "text": [
      "C:\\ProgramData\\Anaconda3\\lib\\site-packages\\sklearn\\model_selection\\_search.py:825: FutureWarning: The parameter 'iid' is deprecated in 0.22 and will be removed in 0.24.\n",
      "  \"removed in 0.24.\", FutureWarning\n",
      "C:\\ProgramData\\Anaconda3\\lib\\site-packages\\sklearn\\model_selection\\_search.py:825: FutureWarning: The parameter 'iid' is deprecated in 0.22 and will be removed in 0.24.\n",
      "  \"removed in 0.24.\", FutureWarning\n"
     ]
    },
    {
     "name": "stdout",
     "output_type": "stream",
     "text": [
      "... saving model: models\\sl-all-0_1.joblib\n"
     ]
    },
    {
     "name": "stderr",
     "output_type": "stream",
     "text": [
      "C:\\ProgramData\\Anaconda3\\lib\\site-packages\\sklearn\\model_selection\\_search.py:825: FutureWarning: The parameter 'iid' is deprecated in 0.22 and will be removed in 0.24.\n",
      "  \"removed in 0.24.\", FutureWarning\n",
      "C:\\ProgramData\\Anaconda3\\lib\\site-packages\\sklearn\\model_selection\\_search.py:825: FutureWarning: The parameter 'iid' is deprecated in 0.22 and will be removed in 0.24.\n",
      "  \"removed in 0.24.\", FutureWarning\n"
     ]
    },
    {
     "name": "stdout",
     "output_type": "stream",
     "text": [
      "... saving model: models\\sl-eire-0_1.joblib\n"
     ]
    },
    {
     "name": "stderr",
     "output_type": "stream",
     "text": [
      "C:\\ProgramData\\Anaconda3\\lib\\site-packages\\sklearn\\model_selection\\_search.py:825: FutureWarning: The parameter 'iid' is deprecated in 0.22 and will be removed in 0.24.\n",
      "  \"removed in 0.24.\", FutureWarning\n",
      "C:\\ProgramData\\Anaconda3\\lib\\site-packages\\sklearn\\model_selection\\_search.py:825: FutureWarning: The parameter 'iid' is deprecated in 0.22 and will be removed in 0.24.\n",
      "  \"removed in 0.24.\", FutureWarning\n"
     ]
    },
    {
     "name": "stdout",
     "output_type": "stream",
     "text": [
      "... saving model: models\\sl-france-0_1.joblib\n"
     ]
    },
    {
     "name": "stderr",
     "output_type": "stream",
     "text": [
      "C:\\ProgramData\\Anaconda3\\lib\\site-packages\\sklearn\\model_selection\\_search.py:825: FutureWarning: The parameter 'iid' is deprecated in 0.22 and will be removed in 0.24.\n",
      "  \"removed in 0.24.\", FutureWarning\n",
      "C:\\ProgramData\\Anaconda3\\lib\\site-packages\\sklearn\\model_selection\\_search.py:825: FutureWarning: The parameter 'iid' is deprecated in 0.22 and will be removed in 0.24.\n",
      "  \"removed in 0.24.\", FutureWarning\n"
     ]
    },
    {
     "name": "stdout",
     "output_type": "stream",
     "text": [
      "... saving model: models\\sl-germany-0_1.joblib\n"
     ]
    },
    {
     "name": "stderr",
     "output_type": "stream",
     "text": [
      "C:\\ProgramData\\Anaconda3\\lib\\site-packages\\sklearn\\model_selection\\_search.py:825: FutureWarning: The parameter 'iid' is deprecated in 0.22 and will be removed in 0.24.\n",
      "  \"removed in 0.24.\", FutureWarning\n",
      "C:\\ProgramData\\Anaconda3\\lib\\site-packages\\sklearn\\model_selection\\_search.py:825: FutureWarning: The parameter 'iid' is deprecated in 0.22 and will be removed in 0.24.\n",
      "  \"removed in 0.24.\", FutureWarning\n"
     ]
    },
    {
     "name": "stdout",
     "output_type": "stream",
     "text": [
      "... saving model: models\\sl-hong_kong-0_1.joblib\n"
     ]
    },
    {
     "name": "stderr",
     "output_type": "stream",
     "text": [
      "C:\\ProgramData\\Anaconda3\\lib\\site-packages\\sklearn\\model_selection\\_search.py:825: FutureWarning: The parameter 'iid' is deprecated in 0.22 and will be removed in 0.24.\n",
      "  \"removed in 0.24.\", FutureWarning\n",
      "C:\\ProgramData\\Anaconda3\\lib\\site-packages\\sklearn\\model_selection\\_search.py:825: FutureWarning: The parameter 'iid' is deprecated in 0.22 and will be removed in 0.24.\n",
      "  \"removed in 0.24.\", FutureWarning\n"
     ]
    },
    {
     "name": "stdout",
     "output_type": "stream",
     "text": [
      "... saving model: models\\sl-netherlands-0_1.joblib\n"
     ]
    },
    {
     "name": "stderr",
     "output_type": "stream",
     "text": [
      "C:\\ProgramData\\Anaconda3\\lib\\site-packages\\sklearn\\model_selection\\_search.py:825: FutureWarning: The parameter 'iid' is deprecated in 0.22 and will be removed in 0.24.\n",
      "  \"removed in 0.24.\", FutureWarning\n",
      "C:\\ProgramData\\Anaconda3\\lib\\site-packages\\sklearn\\model_selection\\_search.py:825: FutureWarning: The parameter 'iid' is deprecated in 0.22 and will be removed in 0.24.\n",
      "  \"removed in 0.24.\", FutureWarning\n"
     ]
    },
    {
     "name": "stdout",
     "output_type": "stream",
     "text": [
      "... saving model: models\\sl-norway-0_1.joblib\n"
     ]
    },
    {
     "name": "stderr",
     "output_type": "stream",
     "text": [
      "C:\\ProgramData\\Anaconda3\\lib\\site-packages\\sklearn\\model_selection\\_search.py:825: FutureWarning: The parameter 'iid' is deprecated in 0.22 and will be removed in 0.24.\n",
      "  \"removed in 0.24.\", FutureWarning\n",
      "C:\\ProgramData\\Anaconda3\\lib\\site-packages\\sklearn\\model_selection\\_search.py:825: FutureWarning: The parameter 'iid' is deprecated in 0.22 and will be removed in 0.24.\n",
      "  \"removed in 0.24.\", FutureWarning\n"
     ]
    },
    {
     "name": "stdout",
     "output_type": "stream",
     "text": [
      "... saving model: models\\sl-portugal-0_1.joblib\n"
     ]
    },
    {
     "name": "stderr",
     "output_type": "stream",
     "text": [
      "C:\\ProgramData\\Anaconda3\\lib\\site-packages\\sklearn\\model_selection\\_search.py:825: FutureWarning: The parameter 'iid' is deprecated in 0.22 and will be removed in 0.24.\n",
      "  \"removed in 0.24.\", FutureWarning\n",
      "C:\\ProgramData\\Anaconda3\\lib\\site-packages\\sklearn\\model_selection\\_search.py:825: FutureWarning: The parameter 'iid' is deprecated in 0.22 and will be removed in 0.24.\n",
      "  \"removed in 0.24.\", FutureWarning\n"
     ]
    },
    {
     "name": "stdout",
     "output_type": "stream",
     "text": [
      "... saving model: models\\sl-singapore-0_1.joblib\n"
     ]
    },
    {
     "name": "stderr",
     "output_type": "stream",
     "text": [
      "C:\\ProgramData\\Anaconda3\\lib\\site-packages\\sklearn\\model_selection\\_search.py:825: FutureWarning: The parameter 'iid' is deprecated in 0.22 and will be removed in 0.24.\n",
      "  \"removed in 0.24.\", FutureWarning\n",
      "C:\\ProgramData\\Anaconda3\\lib\\site-packages\\sklearn\\model_selection\\_search.py:825: FutureWarning: The parameter 'iid' is deprecated in 0.22 and will be removed in 0.24.\n",
      "  \"removed in 0.24.\", FutureWarning\n"
     ]
    },
    {
     "name": "stdout",
     "output_type": "stream",
     "text": [
      "... saving model: models\\sl-spain-0_1.joblib\n"
     ]
    },
    {
     "name": "stderr",
     "output_type": "stream",
     "text": [
      "C:\\ProgramData\\Anaconda3\\lib\\site-packages\\sklearn\\model_selection\\_search.py:825: FutureWarning: The parameter 'iid' is deprecated in 0.22 and will be removed in 0.24.\n",
      "  \"removed in 0.24.\", FutureWarning\n"
     ]
    },
    {
     "name": "stdout",
     "output_type": "stream",
     "text": [
      "... saving model: models\\sl-united_kingdom-0_1.joblib\n"
     ]
    },
    {
     "name": "stderr",
     "output_type": "stream",
     "text": [
      "C:\\ProgramData\\Anaconda3\\lib\\site-packages\\sklearn\\model_selection\\_search.py:825: FutureWarning: The parameter 'iid' is deprecated in 0.22 and will be removed in 0.24.\n",
      "  \"removed in 0.24.\", FutureWarning\n"
     ]
    }
   ],
   "source": [
    "print(os.chdir('C:\\\\Users\\\\GauravSaxena\\\\Downloads\\\\Capstone_Project_Final\\\\cs-train'))\n",
    "model_train(os.getcwd(),test=False)"
   ]
  },
  {
   "cell_type": "code",
   "execution_count": 60,
   "metadata": {},
   "outputs": [
    {
     "name": "stdout",
     "output_type": "stream",
     "text": [
      "<module 'ntpath' from 'C:\\\\ProgramData\\\\Anaconda3\\\\lib\\\\ntpath.py'>\n",
      "... loading ts data from files\n",
      "2018-01-05\n",
      "{'y_pred': array([183804.46333333]), 'y_proba': None}\n"
     ]
    }
   ],
   "source": [
    "### Prediction using the Hind Sol Regressor\n",
    "os.chdir('C:\\\\Users\\\\GauravSaxena\\\\Downloads\\\\Capstone_Project_Final\\\\cs-train');\n",
    "country='all'\n",
    "year='2018'\n",
    "month='01'\n",
    "day='05'\n",
    "result = model_predict(country,year,month,day)\n",
    "print(result)"
   ]
  },
  {
   "cell_type": "code",
   "execution_count": null,
   "metadata": {},
   "outputs": [],
   "source": []
  }
 ],
 "metadata": {
  "kernelspec": {
   "display_name": "Python 3",
   "language": "python",
   "name": "python3"
  },
  "language_info": {
   "codemirror_mode": {
    "name": "ipython",
    "version": 3
   },
   "file_extension": ".py",
   "mimetype": "text/x-python",
   "name": "python",
   "nbconvert_exporter": "python",
   "pygments_lexer": "ipython3",
   "version": "3.7.3"
  }
 },
 "nbformat": 4,
 "nbformat_minor": 2
}
